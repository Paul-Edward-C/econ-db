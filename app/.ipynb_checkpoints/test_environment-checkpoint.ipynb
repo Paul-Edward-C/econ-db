{
 "cells": [
  {
   "cell_type": "code",
   "execution_count": 1,
   "id": "bd25e6f5",
   "metadata": {},
   "outputs": [],
   "source": [
    "import pandas as pd\n",
    "import numpy as np"
   ]
  },
  {
   "cell_type": "code",
   "execution_count": null,
   "id": "0cf34d24",
   "metadata": {},
   "outputs": [],
   "source": [
    "mapping_path = \"db/mapping/export/export_mapping.csv\"\n",
    "data_path = \"db/tw/data/export/tw_export_m.csv\""
   ]
  }
 ],
 "metadata": {
  "kernelspec": {
   "display_name": "Python 3 (ipykernel)",
   "language": "python",
   "name": "python3"
  },
  "language_info": {
   "codemirror_mode": {
    "name": "ipython",
    "version": 3
   },
   "file_extension": ".py",
   "mimetype": "text/x-python",
   "name": "python",
   "nbconvert_exporter": "python",
   "pygments_lexer": "ipython3",
   "version": "3.9.7"
  }
 },
 "nbformat": 4,
 "nbformat_minor": 5
}
